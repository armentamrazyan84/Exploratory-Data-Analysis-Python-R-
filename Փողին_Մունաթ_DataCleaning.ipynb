{
 "cells": [
  {
   "cell_type": "code",
   "execution_count": null,
   "id": "fec51bbb-a63b-4578-a7a9-b7f839cea223",
   "metadata": {},
   "outputs": [],
   "source": [
    "import pandas as pd\n",
    "import numpy as np\n",
    "import matplotlib.pyplot as plt"
   ]
  },
  {
   "cell_type": "code",
   "execution_count": null,
   "id": "35a8d27a-219d-4d42-a6cf-2ec374003ee8",
   "metadata": {
    "scrolled": true
   },
   "outputs": [],
   "source": [
    "df = pd.read_csv(\"billionaires.csv\")\n",
    "display(df)\n"
   ]
  },
  {
   "cell_type": "code",
   "execution_count": null,
   "id": "8e93990b-14fd-48f2-94ab-c9d06e027ea3",
   "metadata": {},
   "outputs": [],
   "source": [
    "df.info()"
   ]
  },
  {
   "cell_type": "markdown",
   "id": "1a5041d1",
   "metadata": {},
   "source": [
    "As we can see, the dataset consists of 30 columns and 2591 rows that do not contain any NULL values. And the corresponding types are also indicated"
   ]
  },
  {
   "cell_type": "code",
   "execution_count": null,
   "id": "e9bd7c4b",
   "metadata": {},
   "outputs": [],
   "source": [
    "df.describe()"
   ]
  },
  {
   "cell_type": "markdown",
   "id": "57dfa62f",
   "metadata": {},
   "source": [
    "In this cell we can see the summarized information for all numeric columns including their maximum, minimum, mean, median merits and more."
   ]
  },
  {
   "cell_type": "markdown",
   "id": "f09821b5",
   "metadata": {},
   "source": [
    "Because of the user filteration system(which will be unvailed during the presentation🤫), new columns: \"1st_initial\" & \"last_initial\" were added, to make the filteration more accuarate and versitile.\n",
    "   \n",
    "   🎯 \"1st_initial\" - The very first letter in the \"full_name\" column\n",
    "   \n",
    "   🎯 \"last_initial\" - The \"full_name\" column was split into parts and the initial of the last word(surname) \n",
    "                       was taken \n",
    "                       \n",
    "Later the unique values for the new columns were printed to check if all first initials are alphabetical with new leadeing/trailing signs."
   ]
  },
  {
   "cell_type": "code",
   "execution_count": null,
   "id": "c1c028db",
   "metadata": {},
   "outputs": [],
   "source": [
    "df[\"1st_initial\"] = df[\"full_name\"].str[0].str.title()\n",
    "print(df[\"1st_initial\"].unique())\n",
    "df[\"last_initial\"] = df[\"full_name\"].str.split(\" \").str[-1].str[0].str.title()\n",
    "print(df[\"last_initial\"].unique())\n",
    "\n",
    "display(df)"
   ]
  },
  {
   "cell_type": "markdown",
   "id": "c196e198-4423-499f-86bc-009e9c9a96cd",
   "metadata": {},
   "source": [
    "## Data cleaning"
   ]
  },
  {
   "cell_type": "markdown",
   "id": "cbf186c4",
   "metadata": {},
   "source": [
    "### Now 🥁*drum roll*🥁 let's consider the relevance of our columns and see which ones would yield insightful analyses. The process will involve the removal of duplicate rows, the processing of missing values and the dropping of some variable columns."
   ]
  },
  {
   "cell_type": "markdown",
   "id": "749c5bea",
   "metadata": {},
   "source": [
    "To start the data cleaning process, let us understand the shape of our data frame. As data show, we have 2591 observations and 32 features which describe each billionaire's specific information."
   ]
  },
  {
   "cell_type": "code",
   "execution_count": null,
   "id": "41369d4a-6546-47f7-925f-b7a595cf39b6",
   "metadata": {},
   "outputs": [],
   "source": [
    "df.shape"
   ]
  },
  {
   "cell_type": "code",
   "execution_count": null,
   "id": "4498f196-e774-4aff-80b3-6d7e6885cb9e",
   "metadata": {},
   "outputs": [],
   "source": [
    "df[\"position\"].nunique()"
   ]
  },
  {
   "cell_type": "markdown",
   "id": "fd6af599",
   "metadata": {},
   "source": [
    "By analyzing the dataset we concluded that the \"position\" column represents billionaire rankings by wealth. Hence, there are just 219 different values for wealth, which means that if we subtracted this value from the number of all our billionaires(number of rows) we would get the number of people who share the same wealth as at least one other billionaire:\n",
    " => 2591 - 219 = 2372"
   ]
  },
  {
   "cell_type": "code",
   "execution_count": null,
   "id": "6a21893f-207a-433d-82c8-8b2a05b59bd6",
   "metadata": {},
   "outputs": [],
   "source": [
    "df[\"g_primary_ed_enroll\"].describe()"
   ]
  },
  {
   "cell_type": "markdown",
   "id": "c0d64786",
   "metadata": {},
   "source": [
    "As we can see the \"g_primary_ed_enroll\" column was expected to have percentage values, however misleading and out of range values were found. Additionally, primary education is the base for future eduacation, hence insightful information cannot be concluded from this column. "
   ]
  },
  {
   "cell_type": "code",
   "execution_count": null,
   "id": "e878b41e-6999-4562-89f1-e8e7a58f2fa3",
   "metadata": {},
   "outputs": [],
   "source": [
    "duplicate_rows = df.duplicated().sum() \n",
    "missing_values == df.isnull().sum().sum()\n",
    "print(f\"there are {duplicate_rows} duplicate rows and {missing_values} missing values\")"
   ]
  },
  {
   "cell_type": "markdown",
   "id": "f651293c",
   "metadata": {},
   "source": [
    "As can be seen, there are no duplicate rows and no missing values. We came to this conclusion using the .duplicated() function, which returns a series with boolean values in its' rows based on whether any rows are repeated. Then we calculated the sum of the returned series, which turned out to be 0. Virtually the same process was done to find the missing values."
   ]
  },
  {
   "cell_type": "markdown",
   "id": "8096d9b3",
   "metadata": {},
   "source": [
    "### Due to the analysis above the following columns are dropped:\n",
    "    🎯 'position' - no insightful information\n",
    "    🎯 'g_primary_ed_enroll' - no insightful information\n",
    "    🎯 'cpi_change_country' - time period of the cpi change is not indicated, therefore redundunt\n",
    "    🎯 'residence_region' - all the data are related to the US only\n",
    "    🎯 'residence_state' - all the data are related to the US only\n",
    "    \n"
   ]
  },
  {
   "cell_type": "code",
   "execution_count": null,
   "id": "56c69a24-28ee-4876-b402-4913ad817da0",
   "metadata": {},
   "outputs": [],
   "source": [
    "df.drop([\"g_primary_ed_enroll\", \"cpi_change_country\", \"residence_state\", \"residence_region\", \"position\"], axis = 1, inplace = True)\n",
    "df"
   ]
  },
  {
   "cell_type": "markdown",
   "id": "2f41f70e",
   "metadata": {},
   "source": [
    "Since the values of the \"wealth\" column are expressed in thousands(քառանիշ) we decided to divide its values by 1000 for convenience, to get precise values expressed in billions."
   ]
  },
  {
   "cell_type": "code",
   "execution_count": null,
   "id": "a1a5e72b-f10b-4b97-9385-36fa470f383e",
   "metadata": {
    "scrolled": true
   },
   "outputs": [],
   "source": [
    "df[\"wealth\"] = df[\"wealth\"]/1000\n",
    "df"
   ]
  }
 ],
 "metadata": {
  "kernelspec": {
   "display_name": "Python 3 (ipykernel)",
   "language": "python",
   "name": "python3"
  },
  "language_info": {
   "codemirror_mode": {
    "name": "ipython",
    "version": 3
   },
   "file_extension": ".py",
   "mimetype": "text/x-python",
   "name": "python",
   "nbconvert_exporter": "python",
   "pygments_lexer": "ipython3",
   "version": "3.11.5"
  }
 },
 "nbformat": 4,
 "nbformat_minor": 5
}
